{
 "cells": [
  {
   "cell_type": "code",
   "execution_count": null,
   "metadata": {
    "collapsed": false,
    "deletable": true,
    "editable": true
   },
   "outputs": [],
   "source": [
    "import numpy as np\n",
    "import pandas as pd\n",
    "\n",
    "from sklearn.decomposition import PCA\n",
    "from sklearn.model_selection import train_test_split"
   ]
  },
  {
   "cell_type": "code",
   "execution_count": null,
   "metadata": {
    "collapsed": true,
    "deletable": true,
    "editable": true
   },
   "outputs": [],
   "source": [
    "yc_data = pd.read_csv('../data/yc_time_series.csv', parse_dates=True, index_col=0)\n",
    "tenors = list(yc_data.columns)"
   ]
  },
  {
   "cell_type": "code",
   "execution_count": null,
   "metadata": {
    "collapsed": false,
    "deletable": true,
    "editable": true
   },
   "outputs": [],
   "source": [
    "train_start, train_end = '2006-03-01', '2016-12-31'\n",
    "test_start, test_end = '2017-01-01', '2018-07-30'\n",
    "\n",
    "train_data = yc_data.loc[train_start:train_end].dropna(axis=0)\n",
    "test_data = yc_data.loc[test_start:test_end].dropna(axis=0)"
   ]
  },
  {
   "cell_type": "code",
   "execution_count": null,
   "metadata": {
    "collapsed": false,
    "deletable": true,
    "editable": true
   },
   "outputs": [],
   "source": [
    "X_train = train_data.values\n",
    "X_test = test_data.values\n",
    "X_train.shape, X_test.shape"
   ]
  },
  {
   "cell_type": "code",
   "execution_count": null,
   "metadata": {
    "collapsed": false,
    "deletable": true,
    "editable": true
   },
   "outputs": [],
   "source": [
    "from sklearn.decomposition import PCA\n",
    "\n",
    "k = 2\n",
    "pca_model = PCA(n_components=k)\n",
    "pca_coeffs = pca_model.fit_transform(X_train)\n",
    "\n",
    "# predictions on test data\n",
    "pca_preds = pca_model.inverse_transform(pca_model.transform(X_test))"
   ]
  },
  {
   "cell_type": "code",
   "execution_count": null,
   "metadata": {
    "collapsed": false,
    "deletable": true,
    "editable": true
   },
   "outputs": [],
   "source": [
    "from keras.models import load_model\n",
    "ae = load_model('../pretrained_models/yield_curve_autoencoder/autoencoder_model.h5')"
   ]
  },
  {
   "cell_type": "code",
   "execution_count": null,
   "metadata": {
    "collapsed": false,
    "deletable": true,
    "editable": true
   },
   "outputs": [],
   "source": [
    "from ipywidgets import *\n",
    "from bqplot import *\n",
    "import bqplot.pyplot as plt\n",
    "from bqplot.colorschemes import *\n",
    "from bqplot.interacts import IndexSelector\n",
    "\n",
    "learning_phase_map = {'Train': train_data, 'Test': test_data}\n",
    "\n",
    "ts_fig = plt.figure(title='Time Series Of Treasury Yield Curve Members', \n",
    "                    layout=Layout(width='1400px', height='500px'))\n",
    "plt.scales(scales={'x': DateScale()})\n",
    "axes_options = {'x': {'label': 'Dates'}, \n",
    "                'y': {'tick_format': '.1%', \n",
    "                      'label_location': 'end', \n",
    "                      'label_offset': '-2ex'}}\n",
    "time_series = plt.plot([], [], colors=CATEGORY20c, labels=tenors,\n",
    "                       labels_visibility='label', apply_clip=False,\n",
    "                       axes_options=axes_options)\n",
    "\n",
    "# create a date selector using IndexSelector\n",
    "date_selector = IndexSelector(scale=time_series.scales['x'], \n",
    "                              marks=[time_series])\n",
    "ts_fig.interaction = date_selector\n",
    "\n",
    "# yield curve fig\n",
    "title_tmpl = 'Yield Curve Reconstruction For: {}'\n",
    "yc_fig = plt.figure(title=title_tmpl.format(''), \n",
    "                    legend_location='top-left')\n",
    "yc_fig.layout.width = '1000px'\n",
    "yc_fig.layout.height = '600px'\n",
    "plt.scales(scales={'y': LinearScale()})\n",
    "axes_options = {'x': {'label': 'Tenor'},\n",
    "                'y': {'label': 'Yield', \n",
    "                      'tick_format': '.1%',\n",
    "                      'label_location': 'end', \n",
    "                      'label_offset': '-2ex'}}\n",
    "yc_lines = plt.plot(tenors, [], display_legend=True, \n",
    "                    marker='square', marker_size=32, \n",
    "                    colors=['yellow', 'limegreen', 'magenta'],\n",
    "                    axes_options=axes_options, labels=['True', 'PCA', 'AE'])\n",
    "\n",
    "# train/test dropdown\n",
    "learning_phase_dd = Select(options=['Train', 'Test'], description='Learning Phase')\n",
    "\n",
    "# callbacks\n",
    "def update_yield_curves(*args):\n",
    "    global data, ae_yield_curves, pca_yield_curves, true_yield_curves\n",
    "    if time_series.selected:\n",
    "        sel_idx = time_series.selected[0]\n",
    "        sel_date = data.index[sel_idx]\n",
    "\n",
    "        true_yield_curve = true_yield_curves[sel_idx]\n",
    "        pca_yield_curve = pca_yield_curves[sel_idx]\n",
    "        ae_yield_curve = ae_yield_curves[sel_idx]\n",
    "\n",
    "        yc_lines.y = np.row_stack([true_yield_curve, pca_yield_curve, ae_yield_curve])\n",
    "        yc_fig.title = title_tmpl.format(sel_date.strftime('%Y-%m-%d'))\n",
    "\n",
    "# date_selector updates the 'selected' attribute of the time_series mark\n",
    "# on which we register the callback 'update_yield_curves'\n",
    "time_series.observe(update_yield_curves, 'selected')\n",
    "\n",
    "def update_time_series(*args):\n",
    "    global data, ae_yield_curves, pca_yield_curves, true_yield_curves\n",
    "    data = learning_phase_map[learning_phase_dd.value]\n",
    "    \n",
    "    with time_series.hold_sync():\n",
    "        time_series.x = data.index\n",
    "        time_series.y = data.values.T\n",
    "    yc_lines.y = []\n",
    "    \n",
    "    X = data.values    \n",
    "    ae_yield_curves = ae.predict(X)\n",
    "    pca_yield_curves = pca_model.inverse_transform(pca_model.transform(X))\n",
    "    true_yield_curves = X\n",
    "\n",
    "learning_phase_dd.observe(update_time_series, 'value')\n",
    "update_time_series(None)\n",
    "\n",
    "VBox([learning_phase_dd, ts_fig, yc_fig])"
   ]
  }
 ],
 "metadata": {
  "kernelspec": {
   "display_name": "Python 3",
   "language": "python",
   "name": "python3"
  },
  "language_info": {
   "codemirror_mode": {
    "name": "ipython",
    "version": 3
   },
   "file_extension": ".py",
   "mimetype": "text/x-python",
   "name": "python",
   "nbconvert_exporter": "python",
   "pygments_lexer": "ipython3",
   "version": "3.6.4"
  }
 },
 "nbformat": 4,
 "nbformat_minor": 2
}
