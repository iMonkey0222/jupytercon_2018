{
 "cells": [
  {
   "cell_type": "code",
   "execution_count": null,
   "metadata": {
    "collapsed": false,
    "deletable": true,
    "editable": true
   },
   "outputs": [],
   "source": [
    "import numpy as np\n",
    "import pandas as pd\n",
    "\n",
    "from sklearn.preprocessing import StandardScaler\n",
    "\n",
    "import keras.backend as K\n",
    "from keras.models import Sequential\n",
    "from keras.layers import *\n",
    "from keras.callbacks import *\n",
    "from keras.optimizers import *\n",
    "\n",
    "from ipywidgets import *\n",
    "from bqplot import LinearScale\n",
    "import bqplot.pyplot as plt\n",
    "\n",
    "from utils import r_square"
   ]
  },
  {
   "cell_type": "code",
   "execution_count": null,
   "metadata": {
    "collapsed": false,
    "deletable": true,
    "editable": true
   },
   "outputs": [],
   "source": [
    "import pandas as pd\n",
    "from sklearn.model_selection import train_test_split\n",
    "\n",
    "data = pd.read_csv('../data/bls_prices.csv')\n",
    "X = data.drop('price', axis=1).values\n",
    "y = data['price'].values\n",
    "\n",
    "# split data into train and val sets\n",
    "X_train, X_val, y_train, y_val = train_test_split(X, y, test_size=2000)"
   ]
  },
  {
   "cell_type": "code",
   "execution_count": null,
   "metadata": {
    "collapsed": true,
    "deletable": true,
    "editable": true
   },
   "outputs": [],
   "source": [
    "# scale the data\n",
    "scaler = StandardScaler()\n",
    "X_train_scaled = scaler.fit_transform(X_train)\n",
    "X_val_scaled = scaler.transform(X_val)"
   ]
  },
  {
   "cell_type": "code",
   "execution_count": null,
   "metadata": {
    "collapsed": false,
    "deletable": true,
    "editable": true
   },
   "outputs": [],
   "source": [
    "class TrainingPlotsDashboard(VBox):\n",
    "    \"\"\"\n",
    "    dashboard for training plots (loss/accuracy curves)\n",
    "    \"\"\"\n",
    "    def __init__(self, *args, **kwargs):\n",
    "        self.epochs = kwargs['epochs']\n",
    "        self.width = kwargs.get('width', 960)\n",
    "        self.height = kwargs.get('height', 500)\n",
    "        self.layout = Layout(width=str(self.width) + 'px',\n",
    "                             height=str(self.height) + 'px')\n",
    "\n",
    "        kwargs['children'] = self.build_widgets()\n",
    "        super(TrainingPlotsDashboard, self).__init__(*args, **kwargs)\n",
    "\n",
    "    def build_widgets(self):\n",
    "        # loss curve\n",
    "        self.loss_fig = plt.figure(title='Loss Curve')\n",
    "        axes_options = {'y': {'label': 'Loss', \n",
    "                              'tick_format': '.1f',\n",
    "                              'label_offset': '-1em',\n",
    "                              'label_location': 'end'},\n",
    "                        'x': {'label': 'Epochs'}}\n",
    "        self.loss_plot = plt.plot([], [], colors=['orangered', 'limegreen'],\n",
    "                                  axes_options=axes_options,\n",
    "                                  display_legend=True,\n",
    "                                  labels=['Train', 'Test'])\n",
    "\n",
    "        # accuracy curve\n",
    "        self.accuracy_fig = plt.figure(title='Accuracy Curve')\n",
    "        plt.scales(scales={'y': LinearScale(min=.99, max=1)})\n",
    "        axes_options = {'y': {'label': 'R Square',\n",
    "                              'tick_format': '.2%',\n",
    "                              'label_offset': '-1em',\n",
    "                              'label_location': 'end'},\n",
    "                        'x': {'label': 'Epochs'}}\n",
    "        self.accuracy_plot = plt.plot([], [],\n",
    "                                      colors=['orangered', 'limegreen'],\n",
    "                                      axes_options=axes_options,\n",
    "                                      display_legend=True,\n",
    "                                      labels=['Train', 'Test'])\n",
    "        \n",
    "        self.progress_bar = IntProgress(description='Training Progress', \n",
    "                                        min=0, max=(self.epochs - 1),\n",
    "                                        layout=Layout(margin='10px 0px 10px 60px'))\n",
    "        return [self.progress_bar, HBox([self.loss_fig, self.accuracy_fig])]\n",
    "\n",
    "    def clear_plots(self):\n",
    "        self.loss_plot.x = []\n",
    "        self.accuracy_plot.x = []"
   ]
  },
  {
   "cell_type": "code",
   "execution_count": null,
   "metadata": {
    "collapsed": false,
    "deletable": true,
    "editable": true
   },
   "outputs": [],
   "source": [
    "class TrainingCallback(Callback):\n",
    "    def __init__(self, *args, **kwargs):\n",
    "        self.dashboard = kwargs['dashboard']\n",
    "\n",
    "    def on_train_begin(self, epoch, logs={}):\n",
    "        self.epochs = []\n",
    "        self.train_loss = []\n",
    "        self.test_loss = []\n",
    "\n",
    "        self.train_acc = []\n",
    "        self.test_acc = []\n",
    "\n",
    "        self.epoch_weights = []\n",
    "        self.epoch_biases = []\n",
    "        self.epoch_activations = []\n",
    "        self.epoch_gradient_norms = []\n",
    "        \n",
    "    def on_epoch_end(self, epoch, logs={}):\n",
    "        self.dashboard.progress_bar.value = epoch\n",
    "        self.epochs.append(epoch + 1)\n",
    "        \n",
    "        self.train_loss.append(logs['loss'])\n",
    "        \n",
    "        if 'acc' in logs:\n",
    "            self.train_acc.append(logs['acc'])\n",
    "        elif 'r_square' in logs:\n",
    "            self.train_acc.append(logs['r_square'])            \n",
    "            \n",
    "        if 'val_loss' in logs:\n",
    "            self.test_loss.append(logs['val_loss'])\n",
    "\n",
    "        if 'val_acc' in logs:\n",
    "            self.test_acc.append(logs['val_acc'])\n",
    "        elif 'val_r_square' in logs:\n",
    "            self.test_acc.append(logs['val_r_square'])\n",
    "        \n",
    "        # update dashboard plots\n",
    "        # loss plot\n",
    "        with self.dashboard.loss_plot.hold_sync():\n",
    "            self.dashboard.loss_plot.x = self.epochs\n",
    "            if len(self.test_loss) > 0:\n",
    "                self.dashboard.loss_plot.y = [self.train_loss, self.test_loss]\n",
    "            else:\n",
    "                self.dashboard.loss_plot.y = self.train_loss\n",
    "\n",
    "        # accuracy plot\n",
    "        with self.dashboard.accuracy_plot.hold_sync():\n",
    "            self.dashboard.accuracy_plot.x = self.epochs\n",
    "\n",
    "            if len(self.test_acc) > 0:\n",
    "                self.dashboard.accuracy_plot.y = [self.train_acc,\n",
    "                                                  self.test_acc]\n",
    "            else:\n",
    "                self.dashboard.accuracy_plot.y = self.train_acc"
   ]
  },
  {
   "cell_type": "code",
   "execution_count": null,
   "metadata": {
    "collapsed": false,
    "deletable": true,
    "editable": true
   },
   "outputs": [],
   "source": [
    "epochs = 100\n",
    "dashboard = TrainingPlotsDashboard(epochs=epochs, width=1200, height=550)\n",
    "training_callback = TrainingCallback(dashboard=dashboard)\n",
    "dashboard"
   ]
  },
  {
   "cell_type": "code",
   "execution_count": null,
   "metadata": {
    "collapsed": false,
    "deletable": true,
    "editable": true
   },
   "outputs": [],
   "source": [
    "activation = 'relu'\n",
    "\n",
    "model = Sequential()\n",
    "model.add(Dense(100, input_dim=4, activation=activation))\n",
    "model.add(Dense(50, activation=activation))\n",
    "model.add(Dense(10, activation=activation))\n",
    "model.add(Dense(1))\n",
    "optimizer = Adam()\n",
    "model.compile(optimizer=optimizer, loss='mse', metrics=[r_square, 'mae'])\n",
    "\n",
    "history = model.fit(X_train, y_train, \n",
    "                    validation_data=(X_val, y_val),\n",
    "                    epochs=epochs, batch_size=64, verbose=0,\n",
    "                    callbacks=[training_callback])"
   ]
  }
 ],
 "metadata": {
  "kernelspec": {
   "display_name": "Python 3",
   "language": "python",
   "name": "python3"
  },
  "language_info": {
   "codemirror_mode": {
    "name": "ipython",
    "version": 3
   },
   "file_extension": ".py",
   "mimetype": "text/x-python",
   "name": "python",
   "nbconvert_exporter": "python",
   "pygments_lexer": "ipython3",
   "version": "3.6.4"
  }
 },
 "nbformat": 4,
 "nbformat_minor": 0
}
