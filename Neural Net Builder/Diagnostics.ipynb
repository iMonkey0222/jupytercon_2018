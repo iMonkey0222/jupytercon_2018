{
 "cells": [
  {
   "cell_type": "code",
   "execution_count": null,
   "metadata": {
    "collapsed": false,
    "deletable": true,
    "editable": true
   },
   "outputs": [],
   "source": [
    "import numpy as np\n",
    "import pandas as pd"
   ]
  },
  {
   "cell_type": "code",
   "execution_count": null,
   "metadata": {
    "collapsed": false,
    "deletable": true,
    "editable": true
   },
   "outputs": [],
   "source": [
    "data = pd.read_csv('../data/bls_prices.csv')\n",
    "X = data.drop('price', axis=1).values\n",
    "y = data['price'].values"
   ]
  },
  {
   "cell_type": "code",
   "execution_count": null,
   "metadata": {
    "collapsed": false,
    "deletable": true,
    "editable": true
   },
   "outputs": [],
   "source": [
    "from sklearn.externals import joblib\n",
    "from keras.models import load_model\n",
    "\n",
    "scaler = joblib.load('../pretrained_models/black_scholes/scaler.pkl')\n",
    "model = load_model('../pretrained_models/black_scholes/bls_model.h5')"
   ]
  },
  {
   "cell_type": "code",
   "execution_count": null,
   "metadata": {
    "collapsed": false,
    "deletable": true,
    "editable": true
   },
   "outputs": [],
   "source": [
    "from sklearn.metrics import r2_score, mean_absolute_error\n",
    "\n",
    "X_scaled = scaler.transform(X)\n",
    "y_pred = model.predict(X_scaled)\n",
    "'r_square: {:.5%}, mae: {:.4f}'.format(r2_score(y, y_pred), mean_absolute_error(y, y_pred))"
   ]
  },
  {
   "cell_type": "code",
   "execution_count": null,
   "metadata": {
    "collapsed": false,
    "deletable": true,
    "editable": true
   },
   "outputs": [],
   "source": [
    "from ipywidgets import Layout\n",
    "import bqplot.pyplot as plt\n",
    "\n",
    "n = 2000\n",
    "y_pred = model.predict(X_scaled).squeeze()\n",
    "residuals = y - y_pred\n",
    "\n",
    "fig = plt.figure(title='Residuals Vs Predicted', \n",
    "               layout=Layout(width='1000px', height='700px'))\n",
    "axes_options = {'x': {'label': 'Predicted'}, \n",
    "                'y': {'label': 'Residuals'}}\n",
    "plt.scatter(y_pred[:n], residuals[:n], stroke='black', colors=['yellow'], \n",
    "            default_size=20, axes_options=axes_options)\n",
    "plt.hline(level=0, stroke_width=3, colors=['limegreen'])\n",
    "fig"
   ]
  },
  {
   "cell_type": "code",
   "execution_count": null,
   "metadata": {
    "collapsed": true,
    "deletable": true,
    "editable": true
   },
   "outputs": [],
   "source": []
  }
 ],
 "metadata": {
  "input_collapsed": false,
  "kernelspec": {
   "display_name": "Python 3",
   "language": "python",
   "name": "python3"
  },
  "language_info": {
   "codemirror_mode": {
    "name": "ipython",
    "version": 3
   },
   "file_extension": ".py",
   "mimetype": "text/x-python",
   "name": "python",
   "nbconvert_exporter": "python",
   "pygments_lexer": "ipython3",
   "version": "3.6.4"
  }
 },
 "nbformat": 4,
 "nbformat_minor": 0
}
