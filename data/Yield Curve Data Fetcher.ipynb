{
 "cells": [
  {
   "cell_type": "markdown",
   "metadata": {
    "deletable": true,
    "editable": true
   },
   "source": [
    "This notebook contains code to download the yield curve data from the U.S. treasury website. The data is in XML format and can be obtained year by year."
   ]
  },
  {
   "cell_type": "code",
   "execution_count": null,
   "metadata": {
    "collapsed": true,
    "deletable": true,
    "editable": true
   },
   "outputs": [],
   "source": [
    "import requests\n",
    "import xml.dom.minidom\n",
    "\n",
    "import numpy as np\n",
    "import pandas as pd"
   ]
  },
  {
   "cell_type": "code",
   "execution_count": null,
   "metadata": {
    "collapsed": false,
    "deletable": true,
    "editable": true
   },
   "outputs": [],
   "source": [
    "# base url of the treasury website (need to append year at the end)\n",
    "BASE_URL = 'http://data.treasury.gov/feed.svc/DailyTreasuryYieldCurveRateData?$filter=year(NEW_DATE)%20eq%20'\n",
    "\n",
    "TENORS = ['1M', '3M', '6M', '1Y', '2Y', '3Y', '5Y', '7Y', '10Y', '20Y', '30Y']\n",
    "\n",
    "# dict mapping field names to the xml tag names of the 'content' DOM node\n",
    "CONTENT_TAG_MAP = {\n",
    "    'date': 'd:NEW_DATE',\n",
    "    '1M': 'd:BC_1MONTH',\n",
    "    '3M': 'd:BC_3MONTH',\n",
    "    '6M': 'd:BC_6MONTH',\n",
    "    '1Y': 'd:BC_1YEAR',\n",
    "    '2Y': 'd:BC_2YEAR',\n",
    "    '3Y': 'd:BC_3YEAR',\n",
    "    '5Y': 'd:BC_5YEAR',\n",
    "    '7Y': 'd:BC_7YEAR',\n",
    "    '10Y': 'd:BC_10YEAR',\n",
    "    '20Y': 'd:BC_20YEAR',\n",
    "    '30Y': 'd:BC_30YEAR'\n",
    "}"
   ]
  },
  {
   "cell_type": "code",
   "execution_count": null,
   "metadata": {
    "collapsed": false,
    "deletable": true,
    "editable": true
   },
   "outputs": [],
   "source": [
    "def get_tag_value(content, tagname):\n",
    "    '''\n",
    "    get a specific tag value from 'contents' dom node\n",
    "    '''\n",
    "    el = content.getElementsByTagName(tagname)[0]\n",
    "    is_null = el.getAttribute('m:null') == 'true'\n",
    "    return np.nan if is_null else el.firstChild.nodeValue\n",
    "\n",
    "def parse_content(content):\n",
    "    '''\n",
    "    returns the dict of yield values by parsing the 'content'\n",
    "    DOM node\n",
    "    '''    \n",
    "    return {k: get_tag_value(content, v) for k, v in CONTENT_TAG_MAP.items()}\n",
    "\n",
    "def get_yc_data_for_year(year):\n",
    "    url = BASE_URL + str(year)\n",
    "    f = requests.get(url)\n",
    "    xml_data = f.text\n",
    "    dom = xml.dom.minidom.parseString(xml_data)\n",
    "    contents = dom.getElementsByTagName('content')\n",
    "    \n",
    "    yc_df = pd.DataFrame([parse_content(content) for content in contents], \n",
    "                         dtype='float')\n",
    "    yc_df.index = pd.to_datetime(yc_df['date'])\n",
    "    yc_df.index.name = None\n",
    "    return yc_df.sort_index()[TENORS] / 100.\n",
    "\n",
    "def get_yield_curve_data(start_year=2006, end_year=2018):\n",
    "    return pd.concat([get_yc_data_for_year(year) for year in range(start_year, end_year + 1)])"
   ]
  },
  {
   "cell_type": "code",
   "execution_count": null,
   "metadata": {
    "collapsed": false,
    "deletable": true,
    "editable": true
   },
   "outputs": [],
   "source": [
    "yc_time_series = get_yield_curve_data()"
   ]
  },
  {
   "cell_type": "code",
   "execution_count": null,
   "metadata": {
    "collapsed": false,
    "deletable": true,
    "editable": true
   },
   "outputs": [],
   "source": [
    "%matplotlib inline\n",
    "import matplotlib.pyplot as plt\n",
    "\n",
    "yc_time_series.plot(figsize=[20, 10], grid=True)"
   ]
  },
  {
   "cell_type": "code",
   "execution_count": null,
   "metadata": {
    "collapsed": false,
    "deletable": true,
    "editable": true
   },
   "outputs": [],
   "source": [
    "# data cleanup\n",
    "\n",
    "# 30Y yields missing till 2006-02-08, start from 2006/03/01\n",
    "yc_time_series = yc_time_series.loc['2006-03-01':]\n",
    "\n",
    "# null data\n",
    "yc_time_series.isnull().sum()"
   ]
  },
  {
   "cell_type": "code",
   "execution_count": null,
   "metadata": {
    "collapsed": false,
    "deletable": true,
    "editable": true
   },
   "outputs": [],
   "source": [
    "# all zero row data\n",
    "yc_time_series[np.all(yc_time_series == 0, axis=1)]"
   ]
  },
  {
   "cell_type": "code",
   "execution_count": null,
   "metadata": {
    "collapsed": false,
    "deletable": true,
    "editable": true
   },
   "outputs": [],
   "source": [
    "yc_time_series = yc_time_series.dropna(how='all')\\\n",
    "    .drop(pd.to_datetime('2017-04-14'))\\\n",
    "    .fillna(0.)"
   ]
  },
  {
   "cell_type": "code",
   "execution_count": null,
   "metadata": {
    "collapsed": true,
    "deletable": true,
    "editable": true
   },
   "outputs": [],
   "source": [
    "yc_time_series.to_csv('yc_time_series.csv')"
   ]
  }
 ],
 "metadata": {
  "kernelspec": {
   "display_name": "Python 3",
   "language": "python",
   "name": "python3"
  },
  "language_info": {
   "codemirror_mode": {
    "name": "ipython",
    "version": 3
   },
   "file_extension": ".py",
   "mimetype": "text/x-python",
   "name": "python",
   "nbconvert_exporter": "python",
   "pygments_lexer": "ipython3",
   "version": "3.6.4"
  }
 },
 "nbformat": 4,
 "nbformat_minor": 2
}
